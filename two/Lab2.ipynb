{
 "metadata": {
  "name": ""
 },
 "nbformat": 3,
 "nbformat_minor": 0,
 "worksheets": [
  {
   "cells": [
    {
     "cell_type": "markdown",
     "metadata": {},
     "source": [
      "# Lab 2: Classification\n",
      "\n",
      "### Machine Learning and Pattern Recognition, September 2014\n",
      "\n",
      "* The lab exercises should be made in groups of two or three people.\n",
      "* The deadline is October 5th (sunday) 23:59.\n",
      "* Assignment should be sent to taco.cohen@gmail.com. The subject line of your email should be \"lab\\#\\_lastname1\\_lastname2\\_lastname3\".\n",
      "* Put your and your teammates' names in the body of the email\n",
      "* Attach the .IPYNB (IPython Notebook) file containing your code and answers. Naming of the file follows the same rule as the subject line. For example, if the subject line is \"lab01\\_Kingma\\_Hu\", the attached file should be \"lab01\\_Kingma\\_Hu.ipynb\". Only use underscores (\"\\_\") to connect names, otherwise the files cannot be parsed.\n",
      "\n",
      "Notes on implementation:\n",
      "\n",
      "* You should write your code and answers in an IPython Notebook: http://ipython.org/notebook.html. If you have problems, please contact us.\n",
      "* Among the first lines of your notebook should be \"%pylab inline\". This imports all required modules, and your plots will appear inline.\n",
      "* NOTE: Make sure we can run your notebook / scripts!\n",
      "\n",
      "$\\newcommand{\\bx}{\\mathbf{x}}$\n",
      "$\\newcommand{\\bw}{\\mathbf{w}}$\n",
      "$\\newcommand{\\bt}{\\mathbf{t}}$\n",
      "$\\newcommand{\\by}{\\mathbf{y}}$\n",
      "$\\newcommand{\\bm}{\\mathbf{m}}$\n",
      "$\\newcommand{\\bb}{\\mathbf{b}}$\n",
      "$\\newcommand{\\bS}{\\mathbf{S}}$\n",
      "$\\newcommand{\\ba}{\\mathbf{a}}$\n",
      "$\\newcommand{\\bz}{\\mathbf{z}}$\n",
      "$\\newcommand{\\bv}{\\mathbf{v}}$\n",
      "$\\newcommand{\\bq}{\\mathbf{q}}$\n",
      "$\\newcommand{\\bp}{\\mathbf{p}}$\n",
      "$\\newcommand{\\bh}{\\mathbf{h}}$\n",
      "\n",
      "$\\newcommand{\\bI}{\\mathbf{I}}$\n",
      "$\\newcommand{\\bX}{\\mathbf{X}}$\n",
      "$\\newcommand{\\bT}{\\mathbf{T}}$\n",
      "$\\newcommand{\\bPhi}{\\mathbf{\\Phi}}$\n",
      "$\\newcommand{\\bW}{\\mathbf{W}}$\n",
      "$\\newcommand{\\bV}{\\mathbf{V}}$"
     ]
    },
    {
     "cell_type": "code",
     "collapsed": false,
     "input": [
      "%pylab inline\n",
      "import gzip, cPickle"
     ],
     "language": "python",
     "metadata": {},
     "outputs": [
      {
       "output_type": "stream",
       "stream": "stdout",
       "text": [
        "Populating the interactive namespace from numpy and matplotlib\n"
       ]
      }
     ],
     "prompt_number": 2
    },
    {
     "cell_type": "markdown",
     "metadata": {},
     "source": [
      "# Part 1. Multiclass logistic regression\n",
      "\n",
      "Scenario: you have a friend with one big problem: she's completely blind. You decided to help her: she has a special smartphone for blind people, and you are going to develop a mobile phone app that can do _machine vision_ using the mobile camera: converting a picture (from the camera) to the meaning of the image. You decide to start with an app that can read handwritten digits, i.e. convert an image of handwritten digits to text (e.g. it would enable her to read precious handwritten phone numbers).\n",
      "\n",
      "A key building block for such an app would be a function `predict_digit(x)` that returns the digit class of an image patch $\\bx$. Since hand-coding this function is highly non-trivial, you decide to solve this problem using machine learning, such that the internal parameters of this function are automatically learned using machine learning techniques.\n",
      "\n",
      "The dataset you're going to use for this is the MNIST handwritten digits dataset (`http://yann.lecun.com/exdb/mnist/`). You can load the data from `mnist.pkl.gz` we provided, using: "
     ]
    },
    {
     "cell_type": "code",
     "collapsed": false,
     "input": [
      "def load_mnist():\n",
      "\tf = gzip.open('mnist.pkl.gz', 'rb')\n",
      "\tdata = cPickle.load(f)\n",
      "\tf.close()\n",
      "\treturn data\n",
      "\n",
      "(x_train, t_train), (x_valid, t_valid), (x_test, t_test) = load_mnist()"
     ],
     "language": "python",
     "metadata": {},
     "outputs": [],
     "prompt_number": 3
    },
    {
     "cell_type": "markdown",
     "metadata": {},
     "source": [
      "The tuples represent train, validation and test sets. The first element (`x_train`, `x_valid`, `x_test`) of each tuple is a $N \\times M$ matrix, where $N$ is the number of datapoints and $M = 28^2 = 784$ is the dimensionality of the data. The second element (`t_train`, `t_valid`, `t_test`) of each tuple is the corresponding $N$-dimensional vector of integers, containing the true class labels.\n",
      "\n",
      "Here's a visualisation of the first 8 digits of the trainingset:"
     ]
    },
    {
     "cell_type": "code",
     "collapsed": false,
     "input": [
      "def plot_digits(data, numcols, shape=(28,28)):\n",
      "    numdigits = data.shape[0]\n",
      "    numrows = int(numdigits/numcols)\n",
      "    for i in range(numdigits):\n",
      "        plt.subplot(numrows, numcols, i)\n",
      "        plt.axis('off')\n",
      "        plt.imshow(data[i].reshape(shape), interpolation='nearest', cmap='Greys')\n",
      "    plt.show()\n",
      "    \n",
      "plot_digits(x_train[0:8], numcols=4)\n"
     ],
     "language": "python",
     "metadata": {},
     "outputs": [
      {
       "metadata": {},
       "output_type": "display_data",
       "png": "[encoded data removed]",
       "text": [
        "<matplotlib.figure.Figure at 0x7f9ee4cd4c50>"
       ]
      }
     ],
     "prompt_number": 4
    },
    {
     "cell_type": "markdown",
     "metadata": {},
     "source": [
      "In _multiclass_ logistic regression, the conditional probability of class label $j$ given the image $\\bx$ for some datapoint is given by:\n",
      "\n",
      "$ \\log p(t = j \\;|\\; \\bx, \\bb, \\bW) = \\log q_j - \\log Z$\n",
      "\n",
      "where $\\log q_j = \\bw_j^T \\bx + b_j$ (the log of the unnormalized probability of the class $j$), and $Z = \\sum_k q_k$ is the normalizing factor. $\\bw_j$ is the $j$-th column of $\\bW$ (a matrix of size $784 \\times 10$) corresponding to the class label, $b_j$ is the $j$-th element of $\\bb$.\n",
      "\n",
      "Given an input image, the multiclass logistic regression model first computes the intermediate vector $\\log \\bq$ (of size $10 \\times 1$), using $\\log q_j = \\bw_j^T \\bx + b_j$, containing the unnormalized log-probabilities per class. \n",
      "\n",
      "The unnormalized probabilities are then normalized by $Z$ such that $\\sum_j p_j = \\sum_j \\exp(\\log p_j) = 1$. This is done by $\\log p_j = \\log q_j - \\log Z$ where $Z = \\sum_j \\exp(\\log q_j)$. This is known as the _softmax_ transformation, and is also used as a last layer of many classifcation neural network models, to ensure that the output of the network is a normalized distribution, regardless of the values of second-to-last layer ($\\log \\bq$)\n",
      "\n",
      "Warning: when computing $\\log Z$, you are likely to encounter numerical problems. Save yourself countless hours of debugging and learn the [log-sum-exp trick](https://hips.seas.harvard.edu/blog/2013/01/09/computing-log-sum-exp/ \"Title\").\n",
      "\n",
      "The network's output $\\log \\bp$ of size $10 \\times 1$ then contains the conditional log-probabilities $\\log p(t = j \\;|\\; \\bx, \\bb, \\bW)$ for each digit class $j$. In summary, the computations are done in this order:\n",
      "\n",
      "$\\bx \\rightarrow \\log \\bq \\rightarrow Z \\rightarrow \\log \\bp$\n",
      "\n",
      "Given some dataset with $N$ independent, identically distributed datapoints, the log-likelihood is given by:\n",
      "\n",
      "$ \\mathcal{L}(\\bb, \\bW) = \\sum_{i=1}^N \\mathcal{L}^{(i)}$\n",
      "\n",
      "where we use $\\mathcal{L}^{(i)}$ to denote the partial log-likelihood evaluated over a single datapoint. It is important to see that the log-probability of the class label $t^{(i)}$ given the image, is given by the $t^{(i)}$-th element of the network's output $\\log \\bp$, denoted by $\\log p_{t^{(i)}}$:\n",
      "\n",
      "$\\mathcal{L}^{(i)} = \\log p(t = t^{(i)} \\;|\\; \\bx = \\bx^{(i)}, \\bb, \\bW) = \\log p_{t^{(i)}} = \\log q_{t^{(i)}} - \\log Z^{(i)}$\n",
      "\n",
      "where $\\bx^{(i)}$ and $t^{(i)}$ are the input (image) and class label (integer) of the $i$-th datapoint, and $Z^{(i)}$ is the normalizing constant for the distribution over $t^{(i)}$.\n"
     ]
    },
    {
     "cell_type": "markdown",
     "metadata": {},
     "source": [
      "## 1.1 Gradient-based stochastic optimization\n",
      "\n",
      "### 1.1.1 Derive gradient equations (20 points)\n",
      "\n",
      "Derive the equations for computing the (first) partial derivatives of the log-likelihood w.r.t. all the parameters, evaluated at a _single_ datapoint $i$.\n",
      "\n",
      "You should start deriving the equations for $\\frac{\\partial \\mathcal{L}^{(i)}}{\\partial \\log q_j}$ for each $j$. For clarity, we'll use the shorthand $\\delta^q_j = \\frac{\\partial \\mathcal{L}^{(i)}}{\\partial \\log q_j}$.\n",
      "\n",
      "For $j = t^{(i)}$:\n",
      "$\n",
      "\\delta^q_j\n",
      "= \\frac{\\partial \\mathcal{L}^{(i)}}{\\partial \\log p_j}\n",
      "\\frac{\\partial \\log p_j}{\\partial \\log q_j}\n",
      "+ \\frac{\\partial \\mathcal{L}^{(i)}}{\\partial \\log Z}\n",
      "\\frac{\\partial \\log Z}{\\partial Z} \n",
      "\\frac{\\partial Z}{\\partial \\log q_j} \n",
      "= 1 \\cdot 1 - \\frac{\\partial \\log Z}{\\partial Z} \n",
      "\\frac{\\partial Z}{\\partial \\log q_j}\n",
      "= 1 - \\frac{\\partial \\log Z}{\\partial Z} \n",
      "\\frac{\\partial Z}{\\partial \\log q_j}\n",
      "$\n",
      "\n",
      "For $j \\neq t^{(i)}$:\n",
      "$\n",
      "\\delta^q_j\n",
      "= \\frac{\\partial \\mathcal{L}^{(i)}}{\\partial \\log Z}\n",
      "\\frac{\\partial \\log Z}{\\partial Z} \n",
      "\\frac{\\partial Z}{\\partial \\log q_j} \n",
      "= - \\frac{\\partial \\log Z}{\\partial Z} \n",
      "\\frac{\\partial Z}{\\partial \\log q_j}\n",
      "$\n",
      "\n",
      "Complete the above derivations for $\\delta^q_j$ by furtherly developing $\\frac{\\partial \\log Z}{\\partial Z}$ and $\\frac{\\partial Z}{\\partial \\log q_j}$. Both are quite simple. For these it doesn't matter whether $j = t^{(i)}$ or not.\n",
      "\n",
      "Given your equations for computing the gradients $\\delta^q_j$ it should be quite straightforward to derive the equations for the gradients of the parameters of the model, $\\frac{\\partial \\mathcal{L}^{(i)}}{\\partial W_{ij}}$ and $\\frac{\\partial \\mathcal{L}^{(i)}}{\\partial b_j}$. The gradients for the biases $\\bb$ are given by:\n",
      "\n",
      "$\n",
      "\\frac{\\partial \\mathcal{L}^{(i)}}{\\partial b_j}\n",
      "= \\frac{\\partial \\mathcal{L}^{(i)}}{\\partial \\log q_j}\n",
      "\\frac{\\partial \\log q_j}{\\partial b_j}\n",
      "= \\delta^q_j\n",
      "\\cdot 1\n",
      "= \\delta^q_j\n",
      "$\n",
      "\n",
      "The equation above gives the derivative of $\\mathcal{L}^{(i)}$ w.r.t. a single element of $\\bb$, so the vector $\\nabla_\\bb \\mathcal{L}^{(i)}$ with all derivatives of $\\mathcal{L}^{(i)}$ w.r.t. the bias parameters $\\bb$ is: \n",
      "\n",
      "$\n",
      "\\nabla_\\bb \\mathcal{L}^{(i)} = \\mathbf{\\delta}^q\n",
      "$\n",
      "\n",
      "where $\\mathbf{\\delta}^q$ denotes the vector of size $10 \\times 1$ with elements $\\mathbf{\\delta}_j^q$.\n",
      "\n",
      "The (not fully developed) equation for computing the derivative of $\\mathcal{L}^{(i)}$ w.r.t. a single element $W_{ij}$ of $\\bW$ is:\n",
      "\n",
      "$\n",
      "\\frac{\\partial \\mathcal{L}^{(i)}}{\\partial W_{ij}} =\n",
      "\\frac{\\partial \\mathcal{L}^{(i)}}{\\partial \\log q_j}\n",
      "\\frac{\\partial \\log q_j}{\\partial W_{ij}}\n",
      "= \\mathbf{\\delta}_j^q\n",
      "\\frac{\\partial \\log q_j}{\\partial W_{ij}}\n",
      "$\n",
      "\n",
      "What is $\\frac{\\partial \\log q_j}{\\partial W_{ij}}$? Complete the equation above.\n",
      "\n",
      "If you want, you can give the resulting equation in vector format ($\\nabla_{\\bw_j} \\mathcal{L}^{(i)} = ...$), like we did for $\\nabla_\\bb \\mathcal{L}^{(i)}$."
     ]
    },
    {
     "cell_type": "markdown",
     "metadata": {},
     "source": [
      "### Answer:\n",
      "\n",
      "$\\frac{\\partial \\log Z}{\\partial Z}\\frac{\\partial Z}{\\partial \\log q_j} = \\frac{1}{Z} \\sum_k \\frac{\\partial \\exp(\\log q_k)}{\\partial \\log q_j} \n",
      " = \\frac{1}{Z} \\exp(\\log q_j) = \\frac{q_j}{\\sum_k q_k}$\n",
      " \n",
      "$\n",
      "\\frac{\\partial \\mathcal{L}^{(i)}}{\\partial W_{ij}} =\n",
      "\\frac{\\partial \\mathcal{L}^{(i)}}{\\partial \\log q_j}\n",
      "\\frac{\\partial \\log q_j}{\\partial W_{ij}}\n",
      "= \\mathbf{\\delta}_j^q\n",
      "\\frac{\\partial \\log q_j}{\\partial W_{ij}}\n",
      "$$\n",
      " = \\mathbf{\\delta}_{j}^q\n",
      "\\frac{\\partial \\bw^T \\bx + \\bb}{\\partial W_{ij}}\n",
      "= \\mathbf{\\delta}_{j}^q\n",
      "\\bx_i \n",
      "$\n",
      "\n",
      "$\n",
      "\\nabla_{\\bw_j} \\mathcal{L}^{(i)} = \\mathbf{\\delta}_{j}^q \\bx \n",
      "$"
     ]
    },
    {
     "cell_type": "markdown",
     "metadata": {},
     "source": [
      "### 1.1.2 Implement gradient computations (10 points)\n",
      "\n",
      "Implement the gradient calculations you derived in the previous question. Write a function `logreg_gradient(x, t, w, b)` that returns the gradients $\\nabla_{\\bw_j} \\mathcal{L}^{(i)}$ (for each $j$) and $\\nabla_{\\bb} \\mathcal{L}^{(i)}$, i.e. the first partial derivatives of the log-likelihood w.r.t. the parameters $\\bW$ and $\\bb$, evaluated at a single datapoint (`x`, `t`).\n",
      "The computation will contain roughly the following intermediate variables:\n",
      "\n",
      "$\n",
      "\\log \\bq \\rightarrow Z \\rightarrow \\log \\bp \\rightarrow \\mathbf{\\delta}^q\n",
      "$\n",
      "\n",
      "followed by computation of the gradient vectors $\\nabla_{\\bw_j} \\mathcal{L}^{(i)}$ (contained in a $784 \\times 10$ matrix) and $\\nabla_{\\bb} \\mathcal{L}^{(i)}$ (a $10 \\times 1$ vector).\n"
     ]
    },
    {
     "cell_type": "code",
     "collapsed": false,
     "input": [
      "evaluate_ln_q = lambda W, x, b:  W.T.dot(x) + b\n",
      "\n",
      "def logreg_gradient(x, t, W, b):\n",
      "    \n",
      "    D = size(W, 1)\n",
      "    dW = zeros(shape(W))\n",
      "    \n",
      "    ln_q = evaluate_ln_q(W, x, b)\n",
      "    Z = sum(exp(ln_q))\n",
      "    \n",
      "    delta_q = zeros((D, 1))\n",
      "    \n",
      "    for j in range(D):\n",
      "        \n",
      "        q_over_Z = exp(ln_q[j])/ Z\n",
      "        delta_q[j] = 1 - q_over_Z if j == t else - q_over_Z\n",
      "    \n",
      "    dW = x.dot(delta_q.T)\n",
      "    #dW[:, t:t+1] = (x * delta_q.T)[:, t:t+1]\n",
      "    \n",
      "    return dW, delta_q\n",
      "\n",
      "\n",
      "    "
     ],
     "language": "python",
     "metadata": {},
     "outputs": [],
     "prompt_number": 11
    },
    {
     "cell_type": "markdown",
     "metadata": {},
     "source": [
      "\n",
      "### 1.1.3 Stochastic gradient descent (10 points)\n",
      "\n",
      "Write a function `sgd_iter(x_train, t_train, w, b)` that performs one iteration of stochastic gradient descent (SGD), and returns the new weights. It should go through the trainingset once in randomized order, call `logreg_gradient(x, t, w, b)` for each datapoint to get the gradients, and update the parameters using a small learning rate (e.g. `1E-4`). Note that in this case we're maximizing the likelihood function, so we should actually performing gradient _ascent_.."
     ]
    },
    {
     "cell_type": "code",
     "collapsed": false,
     "input": [
      "def sgd_iter(x_train, t_train, W, b, alpha=1 * 10**-4):\n",
      "    \n",
      "    N = size(x_train, 0)\n",
      "    \n",
      "    indices = range(N)\n",
      "    random.shuffle(indices)\n",
      "    \n",
      "    for index in indices:\n",
      "        \n",
      "        (x, t) = x_train[index:index+1, :], t_train[index]\n",
      "        \n",
      "        # x is a row vector, we pass it as a column vector\n",
      "        dW, db = logreg_gradient(x.T, t, W, b)\n",
      "\n",
      "        # Gradient ascent so we have to use a + sign\n",
      "        W += alpha * dW\n",
      "        b += alpha * db\n",
      "    \n",
      "    return W, b\n",
      "    "
     ],
     "language": "python",
     "metadata": {},
     "outputs": [],
     "prompt_number": 6
    },
    {
     "cell_type": "markdown",
     "metadata": {},
     "source": [
      "## 1.2. Train\n",
      "\n",
      "### 1.2.1 Train (10 points)\n",
      "Perform a handful of training iterations through the trainingset. Plot (in one graph) the conditional log-probability of the trainingset and validation set after each iteration.\n"
     ]
    },
    {
     "cell_type": "code",
     "collapsed": false,
     "input": [
      "(x_train, t_train), (x_valid, t_valid), (x_test, t_test) = load_mnist()\n",
      "\n",
      "K = 10\n",
      "N, D = shape(x_train)\n",
      "\n",
      "#W = random.rand(D, K)\n",
      "#b = random.rand(K, 1)\n",
      "\n",
      "# Perhaps we've got our gradients wrong, but right now \n",
      "# the gradient in the weights for each class is a scalar times the input.\n",
      "# Due to the nature of the data, if we start with randomised weights, \n",
      "# the resulting filters/basis functions will be noisy.\n",
      "# Although we're not sure if this harms performance, we'll start\n",
      "# with zero-weights just in case.\n",
      "W = zeros((D, K))\n",
      "b = zeros((K, 1))\n",
      "  \n",
      "def evaluate_ln_p(x, W, b):\n",
      "    \n",
      "    ln_q = evaluate_ln_q(W, x, b)\n",
      "    a = np.max(ln_q)\n",
      "    ln_Z = a + log(sum(exp(ln_q - a)))\n",
      "    return ln_q - ln_Z\n",
      "    \n",
      "def ln_p_avg(X, t_eval, W, b):\n",
      "    \n",
      "    S = 0\n",
      "    N = size(X, 0)\n",
      "    for i in range(N):\n",
      "        (x, t) = X[i:i+1, :], t_eval[i]\n",
      "        ln_p = evaluate_ln_p(x.T, W, b)\n",
      "        S += ln_p[t]\n",
      "    return S/N\n",
      "\n",
      "iterations = 5\n",
      "train_likelihood = zeros((iterations,1))\n",
      "test_likelihood = zeros((iterations,1))\n",
      "\n",
      "for i in range(iterations):\n",
      "    \n",
      "    W, b = sgd_iter(x_train, t_train, W, b, alpha = 1 * 10**-4)\n",
      "    train_likelihood[i] = ln_p_avg(x_train, t_train, W, b)\n",
      "    test_likelihood[i] = ln_p_avg(x_test, t_test, W, b)\n",
      "    \n",
      "    #print 'Iteration %d. Test log likelihood %f' % (i, test_likelihood[i])\n",
      "    \n",
      "plt.plot(range(iterations), train_likelihood, label='Train set')\n",
      "plt.plot(range(iterations), test_likelihood, label='Test set')\n",
      "plt.xlabel('Number of iterations through the train set')\n",
      "plt.ylabel('Likelihood given the model')\n",
      "plt.legend(bbox_to_anchor=(1, 1),\n",
      "           bbox_transform=plt.gcf().transFigure)\n",
      "plt.show()"
     ],
     "language": "python",
     "metadata": {},
     "outputs": [
      {
       "ename": "ValueError",
       "evalue": "need more than 2 values to unpack",
       "output_type": "pyerr",
       "traceback": [
        "\u001b[0;31m---------------------------------------------------------------------------\u001b[0m\n\u001b[0;31mValueError\u001b[0m                                Traceback (most recent call last)",
        "\u001b[0;32m<ipython-input-12-4e6f7a739fe5>\u001b[0m in \u001b[0;36m<module>\u001b[0;34m()\u001b[0m\n\u001b[1;32m     39\u001b[0m \u001b[0;32mfor\u001b[0m \u001b[0mi\u001b[0m \u001b[0;32min\u001b[0m \u001b[0mrange\u001b[0m\u001b[0;34m(\u001b[0m\u001b[0miterations\u001b[0m\u001b[0;34m)\u001b[0m\u001b[0;34m:\u001b[0m\u001b[0;34m\u001b[0m\u001b[0m\n\u001b[1;32m     40\u001b[0m \u001b[0;34m\u001b[0m\u001b[0m\n\u001b[0;32m---> 41\u001b[0;31m     \u001b[0mW\u001b[0m\u001b[0;34m,\u001b[0m \u001b[0mb\u001b[0m \u001b[0;34m=\u001b[0m \u001b[0msgd_iter\u001b[0m\u001b[0;34m(\u001b[0m\u001b[0mx_train\u001b[0m\u001b[0;34m,\u001b[0m \u001b[0mt_train\u001b[0m\u001b[0;34m,\u001b[0m \u001b[0mW\u001b[0m\u001b[0;34m,\u001b[0m \u001b[0mb\u001b[0m\u001b[0;34m,\u001b[0m \u001b[0malpha\u001b[0m \u001b[0;34m=\u001b[0m \u001b[0;36m1\u001b[0m \u001b[0;34m*\u001b[0m \u001b[0;36m10\u001b[0m\u001b[0;34m**\u001b[0m\u001b[0;34m-\u001b[0m\u001b[0;36m4\u001b[0m\u001b[0;34m)\u001b[0m\u001b[0;34m\u001b[0m\u001b[0m\n\u001b[0m\u001b[1;32m     42\u001b[0m     \u001b[0mtrain_likelihood\u001b[0m\u001b[0;34m[\u001b[0m\u001b[0mi\u001b[0m\u001b[0;34m]\u001b[0m \u001b[0;34m=\u001b[0m \u001b[0mln_p_avg\u001b[0m\u001b[0;34m(\u001b[0m\u001b[0mx_train\u001b[0m\u001b[0;34m,\u001b[0m \u001b[0mt_train\u001b[0m\u001b[0;34m,\u001b[0m \u001b[0mW\u001b[0m\u001b[0;34m,\u001b[0m \u001b[0mb\u001b[0m\u001b[0;34m)\u001b[0m\u001b[0;34m\u001b[0m\u001b[0m\n\u001b[1;32m     43\u001b[0m     \u001b[0mtest_likelihood\u001b[0m\u001b[0;34m[\u001b[0m\u001b[0mi\u001b[0m\u001b[0;34m]\u001b[0m \u001b[0;34m=\u001b[0m \u001b[0mln_p_avg\u001b[0m\u001b[0;34m(\u001b[0m\u001b[0mx_test\u001b[0m\u001b[0;34m,\u001b[0m \u001b[0mt_test\u001b[0m\u001b[0;34m,\u001b[0m \u001b[0mW\u001b[0m\u001b[0;34m,\u001b[0m \u001b[0mb\u001b[0m\u001b[0;34m)\u001b[0m\u001b[0;34m\u001b[0m\u001b[0m\n",
        "\u001b[0;32m<ipython-input-10-35ea84be3607>\u001b[0m in \u001b[0;36msgd_iter\u001b[0;34m(x_train, t_train, W, b, alpha)\u001b[0m\n\u001b[1;32m     48\u001b[0m \u001b[0;34m\u001b[0m\u001b[0m\n\u001b[1;32m     49\u001b[0m         \u001b[0;31m# x is a row vector, we pass it as a column vector\u001b[0m\u001b[0;34m\u001b[0m\u001b[0;34m\u001b[0m\u001b[0m\n\u001b[0;32m---> 50\u001b[0;31m         \u001b[0mdW\u001b[0m\u001b[0;34m,\u001b[0m \u001b[0mdV\u001b[0m\u001b[0;34m,\u001b[0m \u001b[0mda\u001b[0m\u001b[0;34m,\u001b[0m \u001b[0mdb\u001b[0m \u001b[0;34m=\u001b[0m \u001b[0mlogreg_gradient\u001b[0m\u001b[0;34m(\u001b[0m\u001b[0mx\u001b[0m\u001b[0;34m.\u001b[0m\u001b[0mT\u001b[0m\u001b[0;34m,\u001b[0m \u001b[0mt\u001b[0m\u001b[0;34m,\u001b[0m \u001b[0mW\u001b[0m\u001b[0;34m,\u001b[0m \u001b[0mb\u001b[0m\u001b[0;34m)\u001b[0m\u001b[0;34m\u001b[0m\u001b[0m\n\u001b[0m\u001b[1;32m     51\u001b[0m \u001b[0;34m\u001b[0m\u001b[0m\n\u001b[1;32m     52\u001b[0m         \u001b[0;31m# Gradient ascent so we have to use a + sign\u001b[0m\u001b[0;34m\u001b[0m\u001b[0;34m\u001b[0m\u001b[0m\n",
        "\u001b[0;31mValueError\u001b[0m: need more than 2 values to unpack"
       ]
      }
     ],
     "prompt_number": 12
    },
    {
     "cell_type": "markdown",
     "metadata": {},
     "source": [
      "### 1.2.2 Visualize weights (10 points)\n",
      "Visualize the resulting parameters $\\bW$ after a few iterations through the training set, by treating each column of $\\bW$ as an image. If you want, you can use or edit the `plot_digits(...)` above."
     ]
    },
    {
     "cell_type": "code",
     "collapsed": false,
     "input": [
      "plot_digits(W.T, numcols=5)"
     ],
     "language": "python",
     "metadata": {},
     "outputs": [
      {
       "metadata": {},
       "output_type": "display_data",
       "png": "[encoded data removed]",
       "text": [
        "<matplotlib.figure.Figure at 0x7f9ee4882e10>"
       ]
      }
     ],
     "prompt_number": 8
    },
    {
     "cell_type": "markdown",
     "metadata": {},
     "source": [
      "### 1.2.3. Visualize the 8 hardest and 8 easiest digits (10 points)\n",
      "Visualize the 8 digits in the validation set with the highest probability of the true class label under the model.\n",
      "Also plot the 8 digits that were assigned the lowest probability.\n",
      "Ask yourself if these results make sense."
     ]
    },
    {
     "cell_type": "code",
     "collapsed": false,
     "input": [
      "N = size(t_test, 0)\n",
      "\n",
      "probs = [(evaluate_ln_p(x_test[i:i+1, :].T, W, b)[t_test[i]], x_test[i]) for i in range(N)]\n",
      "\n",
      "ascending = sorted(probs, key=lambda x: x[0])\n",
      "descending = reversed(ascending)\n",
      "\n",
      "D = size(x_test, 1)\n",
      "\n",
      "lowest = zeros((D, 8))\n",
      "highest = zeros((D, 8))\n",
      "\n",
      "for i in range(8):\n",
      "    lowest[:, i] = ascending[i][1]\n",
      "    highest[:, i] = descending.next()[1]\n",
      "    \n",
      "plot_digits(lowest.T, numcols=4)  \n",
      "plot_digits(highest.T, numcols=4)  "
     ],
     "language": "python",
     "metadata": {},
     "outputs": [
      {
       "metadata": {},
       "output_type": "display_data",
       "png": "[encoded data removed]",
       "text": [
        "<matplotlib.figure.Figure at 0x7f9ee4bf2b50>"
       ]
      },
      {
       "metadata": {},
       "output_type": "display_data",
       "png": "[encoded data removed]",
       "text": [
        "<matplotlib.figure.Figure at 0x7f9ee4928990>"
       ]
      }
     ],
     "prompt_number": 9
    },
    {
     "cell_type": "markdown",
     "metadata": {},
     "source": [
      "# Part 2. Multilayer perceptron\n",
      "\n",
      "\n",
      "You discover that the predictions by the logistic regression classifier are not good enough for your application: the model is too simple. You want to increase the accuracy of your predictions by using a better model. For this purpose, you're going to use a multilayer perceptron (MLP), a simple kind of neural network. The perceptron wil have a single hidden layer $\\bh$ with $L$ elements. The parameters of the model are $\\bV$ (connections between input $\\bx$ and hidden layer $\\bh$), $\\ba$ (the biases/intercepts of $\\bh$), $\\bW$ (connections between $\\bh$ and $\\log q$) and $\\bb$ (the biases/intercepts of $\\log q$.\n",
      "\n",
      "The conditional probability of the class label $j$ is given by:\n",
      "\n",
      "$\\log p(t = j \\;|\\; \\bx, \\bb, \\bW) = \\log q_j - \\log Z$\n",
      "\n",
      "where $q_j$ are again the unnormalized probabilities per class, and $Z = \\sum_j q_j$ is again the probability normalizing factor. Each $q_j$ is computed using:\n",
      "\n",
      "$\\log q_j = \\bw_j^T \\bh + b_j$\n",
      "\n",
      "where $\\bh$ is a $L \\times 1$ vector with the hidden layer activations (of a hidden layer with size $L$), and $\\bw_j$ is the $j$-th column of $\\bW$ (a $L \\times 10$ matrix). Each element of the hidden layer is computed from the input vector $\\bx$ using:\n",
      "\n",
      "$h_j = \\sigma(\\bv_j^T \\bx + a_j)$\n",
      "\n",
      "where $\\bv_j$ is the $j$-th column of $\\bV$ (a $784 \\times L$ matrix), $a_j$ is the $j$-th element of $\\ba$, and $\\sigma(.)$ is the so-called sigmoid activation function, defined by:\n",
      "\n",
      "$\\sigma(x) = \\frac{1}{1 + \\exp(-x)}$\n",
      "\n",
      "Note that this model is almost equal to the multiclass logistic regression model, but with an extra 'hidden layer' $\\bh$. The activations of this hidden layer can be viewed as features computed from the input, where the feature transformation ($\\bV$ and $\\ba$) is learned.\n",
      "\n",
      "## 2.1 Derive gradient equations (20 points)\n",
      "\n",
      "State (shortly) why $\\nabla_{\\bb} \\mathcal{L}^{(i)}$ is equal to the earlier (multiclass logistic regression) case, and why $\\nabla_{\\bw_j} \\mathcal{L}^{(i)}$ is almost equal to the earlier case.\n",
      "\n",
      "Like in multiclass logistic regression, you should use intermediate variables $\\mathbf{\\delta}_j^q$. In addition, you should use intermediate variables $\\mathbf{\\delta}_j^h = \\frac{\\partial \\mathcal{L}^{(i)}}{\\partial h_j}$.\n",
      "\n",
      "Given an input image, roughly the following intermediate variables should be computed:\n",
      "\n",
      "$\n",
      "\\log \\bq \\rightarrow Z \\rightarrow \\log \\bp \\rightarrow \\mathbf{\\delta}^q \\rightarrow \\mathbf{\\delta}^h\n",
      "$\n",
      "\n",
      "where $\\mathbf{\\delta}_j^h = \\frac{\\partial \\mathcal{L}^{(i)}}{\\partial \\bh_j}$.\n",
      "\n",
      "Give the equations for computing $\\mathbf{\\delta}^h$, and for computing the derivatives of $\\mathcal{L}^{(i)}$ w.r.t. $\\bW$, $\\bb$, $\\bV$ and $\\ba$. \n",
      "\n",
      "You can use the convenient fact that $\\frac{\\partial}{\\partial x} \\sigma(x) = \\sigma(x) (1 - \\sigma(x))$.\n"
     ]
    },
    {
     "cell_type": "markdown",
     "metadata": {},
     "source": [
      "### Answer\n",
      "\n",
      "$\\nabla_{\\bb} \\mathcal{L}^{(i)}$ is equal to the earlier case because we have the same conditional probability of the class label $j$, $\\log p(t = j \\;|\\; \\bx, \\bb, \\bW) = \\log q_j - \\log Z$ and hence the same derivative and gradient $\\nabla_\\bb \\mathcal{L}^{(i)} = \\mathbf{\\delta}^q$\n",
      "\n",
      "$\\nabla_{\\bw_j} \\mathcal{L}^{(i)}$ differs slightly because in the MLP, $\\bW$ connects the hidden layer values $\\bh$ instead of the input values $\\bx$. Because of this, and following the derivative made in 1.1.1, the gradient is: \n",
      "$\n",
      "\\frac{\\partial \\mathcal{L}^{(i)}}{\\partial \\bw_j} =\n",
      "\\frac{\\partial \\mathcal{L}^{(i)}}{\\partial \\log q_j}\n",
      "\\frac{\\partial \\log q_j}{\\partial bw_j}\n",
      "= \\mathbf{\\delta}_j^q\n",
      "\\frac{\\partial \\log q_j}{\\partial bw_j}\n",
      "$$\n",
      " = \\mathbf{\\delta}_{j}^q\n",
      "\\frac{\\partial \\bw_j^T \\bh + \\bb_j}{\\partial bw_j}\n",
      "= \\mathbf{\\delta}_{j}^q\n",
      "\\bh_i \n",
      "$\n",
      "\n",
      "Because $\\delta^q$ is the same as before, we can easily find $\\delta^h$: \n",
      "\n",
      "$\\delta^h_j \n",
      "= \\delta^q \\frac{\\partial \\log q_j}{\\partial \\bh}\n",
      "= \\delta^q \\frac{\\partial \\bw_j^T \\bh + \\bb_j}{\\partial \\bh}\n",
      "= \\delta^q \\bw_j\n",
      "$\n",
      "\n",
      "$\\nabla_{\\bv_j} \\mathcal{L} = \\delta_j^h \\frac{\\partial \\sigma(\\mathbf{V}^T\\bx + \\ba)}{\\partial \\mathbf{V}^T\\bx + \\ba} \\frac{\\partial \\mathbf{V}^T\\bx + \\ba}{\\partial \\bv_j}\n",
      "= \\delta_j^h \\sigma (\\bv_j^T\\bx + \\ba_j) \\sigma (1 - \\bv_j^T\\bx - \\ba_j) \\bx$\n",
      "\n",
      "$\\frac{\\partial \\mathcal{L}^{(i)}}{\\partial \\ba_j} = \\delta^h \\frac{\\partial \\sigma(\\mathbf{V}^T\\bx + \\ba)}{\\partial \\mathbf{V}^T\\bx + \\ba} \\frac{\\partial \\mathbf{V}^T\\bx + \\ba}{\\partial \\ba_j} \n",
      "= \\delta_j^h \\sigma (\\bv_j^T\\bx + \\ba_j) \\sigma (1 - \\bv_j^T\\bx - \\ba_j)$"
     ]
    },
    {
     "cell_type": "markdown",
     "metadata": {},
     "source": [
      "## 2.2 MAP optimization (10 points)\n",
      "\n",
      "You derived equations for finding the _maximum likelihood_ solution of the parameters. Explain, in a few sentences, how you could extend this approach so that it optimizes towards a _maximum a posteriori_ (MAP) solution of the parameters, with a Gaussian prior on the parameters. "
     ]
    },
    {
     "cell_type": "markdown",
     "metadata": {},
     "source": [
      "Answer:"
     ]
    },
    {
     "cell_type": "markdown",
     "metadata": {},
     "source": [
      "## 2.3. Implement and train a MLP (15 points)\n",
      "\n",
      "Implement a MLP model with a single hidden layer, and code to train the model."
     ]
    },
    {
     "cell_type": "code",
     "collapsed": false,
     "input": [
      "sigma = lambda a: 1 / (1 + exp(a))\n",
      "MLP_evaluate_ln_q = lambda h, W, b:  W.T.dot(h) + b\n",
      "MLP_evaluate_h = lambda x, V, a: sigma(V.T.dot(x) + a)\n",
      "\n",
      "def MLP_logreg_gradient(x, t, V, W, a, b):\n",
      "    \n",
      "    L = size(W, 0)\n",
      "    K = size(W, 1)\n",
      "    D = size(V, 0)\n",
      "    \n",
      "    z = V.T.dot(x) + a # L * 1\n",
      "    sigma_gradient = sigma(z) * sigma(1 - z) # L * 1\n",
      "    \n",
      "    h = MLP_evaluate_h(x, V, a)\n",
      "    ln_q = MLP_evaluate_ln_q(h, W, b)\n",
      "    Z = sum(exp(ln_q))\n",
      "    \n",
      "    delta_q = - exp(ln_q) / Z\n",
      "    delta_q[t] = 1 + delta_q[t]\n",
      "    \n",
      "    delta_h = W.dot(delta_q) * sigma_gradient\n",
      "    \n",
      "    dW = h.dot(delta_q.T)\n",
      "    dV = x.dot(delta_h.T)\n",
      "    \n",
      "    da = delta_h * sigma_gradient\n",
      "    db = delta_q\n",
      "    return dV, dW, da, db\n",
      "\n",
      "def MLP_sgd_iter(x_train, t_train, V, W, a, b, alpha=1 * 10**-4):\n",
      "    \n",
      "    N = size(x_train, 0)\n",
      "    \n",
      "    indices = range(N)\n",
      "    random.shuffle(indices)\n",
      "    \n",
      "    for index in indices:\n",
      "        \n",
      "        (x, t) = x_train[index:index+1, :], t_train[index]\n",
      "        \n",
      "        # x is a row vector, we pass it as a column vector\n",
      "        dV, dW, da, db = MLP_logreg_gradient(x.T, t, V, W, a, b)\n",
      "\n",
      "        # Gradient ascent so we have to use a + sign\n",
      "        V += alpha * dV\n",
      "        W += alpha * dW\n",
      "        a += alpha * da\n",
      "        b += alpha * db\n",
      "    \n",
      "    return V, W, a, b\n",
      "\n",
      "(x_train, t_train), (x_valid, t_valid), (x_test, t_test) = load_mnist()\n",
      "\n",
      "K = 10\n",
      "N, D = shape(x_train)\n",
      "print shape(x_train)\n",
      "L = 50\n",
      "\n",
      "V = random.rand(D, L)\n",
      "W = random.rand(L, K)\n",
      "a = random.rand(L, 1)\n",
      "b = random.rand(K, 1)\n",
      "\n",
      "# Perhaps we've got our gradients wrong, but right now \n",
      "# the gradient in the weights for each class is a scalar times the input.\n",
      "# Due to the nature of the data, if we start with randomised weights, \n",
      "# the resulting filters/basis functions will be noisy.\n",
      "# Although we're not sure if this harms performance, we'll start\n",
      "# with zero-weights just in case.\n",
      "V = zeros((D, L))\n",
      "W = zeros((L, K))\n",
      "a = zeros((L, 1))\n",
      "b = zeros((K, 1))\n",
      "  \n",
      "def MLP_evaluate_ln_p(x, V, W, a, b):\n",
      "    \n",
      "    h = MLP_evaluate_h(x, V, a)\n",
      "    ln_q = MLP_evaluate_ln_q(h, W, b)\n",
      "    \n",
      "    a = np.max(ln_q)\n",
      "    ln_Z = a + log(sum(exp(ln_q - a)))\n",
      "    \n",
      "    return ln_q - ln_Z\n",
      "    \n",
      "def MLP_ln_p_avg(X, t_eval, V, W, a, b):\n",
      "    \n",
      "    S = 0\n",
      "    N = size(X, 0)\n",
      "    for i in range(N):\n",
      "        (x, t) = X[i:i+1, :], t_eval[i]\n",
      "        ln_p = MLP_evaluate_ln_p(x.T, V, W, a, b)\n",
      "        S += ln_p[t]\n",
      "    return S/N\n",
      "\n",
      "iterations = 10\n",
      "train_likelihood = zeros((iterations,1))\n",
      "test_likelihood = zeros((iterations,1))\n",
      "\n",
      "for i in range(iterations):\n",
      "    \n",
      "    V, W, a, b = MLP_sgd_iter(x_train, t_train, V, W, a, b, alpha = 1.5 * 10**-4)\n",
      "    train_likelihood[i] = MLP_ln_p_avg(x_train, t_train, V, W, a, b)\n",
      "    test_likelihood[i] = MLP_ln_p_avg(x_test, t_test, V, W, a, b)\n",
      "    \n",
      "    print 'Iteration %d. Test log likelihood %f' % (i, test_likelihood[i])\n",
      "    \n",
      "plt.plot(range(iterations), train_likelihood, label='Train set')\n",
      "plt.plot(range(iterations), test_likelihood, label='Test set')\n",
      "plt.xlabel('Number of iterations through the train set')\n",
      "plt.ylabel('Likelihood given the model')\n",
      "plt.legend(bbox_to_anchor=(1, 1),\n",
      "           bbox_transform=plt.gcf().transFigure)\n",
      "plt.show()"
     ],
     "language": "python",
     "metadata": {},
     "outputs": [
      {
       "output_type": "stream",
       "stream": "stdout",
       "text": [
        "(50000, 784)\n",
        "Iteration 0. Test log likelihood -2.302440"
       ]
      },
      {
       "output_type": "stream",
       "stream": "stdout",
       "text": [
        "\n",
        "Iteration 1. Test log likelihood -2.303436"
       ]
      },
      {
       "output_type": "stream",
       "stream": "stdout",
       "text": [
        "\n",
        "Iteration 2. Test log likelihood -2.304398"
       ]
      },
      {
       "output_type": "stream",
       "stream": "stdout",
       "text": [
        "\n",
        "Iteration 3. Test log likelihood -2.303007"
       ]
      },
      {
       "output_type": "stream",
       "stream": "stdout",
       "text": [
        "\n",
        "Iteration 4. Test log likelihood -2.303684"
       ]
      },
      {
       "output_type": "stream",
       "stream": "stdout",
       "text": [
        "\n",
        "Iteration 5. Test log likelihood -2.302681"
       ]
      },
      {
       "output_type": "stream",
       "stream": "stdout",
       "text": [
        "\n",
        "Iteration 6. Test log likelihood -2.303489"
       ]
      },
      {
       "output_type": "stream",
       "stream": "stdout",
       "text": [
        "\n",
        "Iteration 7. Test log likelihood -2.306915"
       ]
      },
      {
       "output_type": "stream",
       "stream": "stdout",
       "text": [
        "\n",
        "Iteration 8. Test log likelihood -2.307461"
       ]
      },
      {
       "output_type": "stream",
       "stream": "stdout",
       "text": [
        "\n",
        "Iteration 9. Test log likelihood -2.303687"
       ]
      },
      {
       "output_type": "stream",
       "stream": "stdout",
       "text": [
        "\n"
       ]
      },
      {
       "metadata": {},
       "output_type": "display_data",
       "png": "[encoded data removed]",
       "text": [
        "<matplotlib.figure.Figure at 0x7f9ee45e0190>"
       ]
      }
     ],
     "prompt_number": 125
    },
    {
     "cell_type": "markdown",
     "metadata": {},
     "source": [
      "### 2.3.1. Less than 250 misclassifications on the test set (10 bonus points)\n",
      "\n",
      "You receive an additional 10 bonus points if you manage to train a model with very high accuracy: at most 2.5% misclasified digits on the test set. Note that the test set contains 10000 digits, so you model should misclassify at most 250 digits. This should be achievable with a MLP model with one hidden layer. See results of various models at : `http://yann.lecun.com/exdb/mnist/index.html`. To reach such a low accuracy, you probably need to have a very high $L$ (many hidden units), probably $L > 200$, and apply a strong Gaussian prior on the weights. In this case you are allowed to use the validation set for training.\n",
      "You are allowed to add additional layers, and use convolutional networks, although that is probably not required to reach 2.5% misclassifications."
     ]
    },
    {
     "cell_type": "code",
     "collapsed": false,
     "input": [
      "plot_digits(V[:, 40:46].T, numcols=3)\n",
      "plt.show()\n",
      "\n",
      "i = random.choice(range(size(t_test, 0)))\n",
      "x, t = x_test[i:i+1, :], t_test[i]\n",
      "\n",
      "h = MLP_evaluate_h(x, V, a)\n",
      "ln_q = MLP_evaluate_ln_q(h, W, b)\n",
      "Z = sum(exp(ln_q))\n",
      "    \n",
      "delta_q = - exp(ln_q) / Z\n",
      "delta_q[t] = 1 + delta_q[t]\n",
      "\n",
      "res = exp(MLP_evaluate_ln_p(x.T, V, W, a, b))\n",
      "\n",
      "print t\n",
      "\n",
      "for i, p in enumerate(res):\n",
      "    print i, p,\n",
      "    if p == max(res):\n",
      "        print ' (*)',\n",
      "    if i == t:\n",
      "        print ' (T)',\n",
      "    print\n",
      "    "
     ],
     "language": "python",
     "metadata": {},
     "outputs": [
      {
       "metadata": {},
       "output_type": "display_data",
       "png": "[encoded data removed]",
       "text": [
        "<matplotlib.figure.Figure at 0x7f9ee48e3a10>"
       ]
      },
      {
       "output_type": "stream",
       "stream": "stdout",
       "text": [
        "6\n",
        "0 [ 0.09004882]\n",
        "1 [ 0.12326826]  (*)\n",
        "2 [ 0.10566053]\n",
        "3 [ 0.09974303]\n",
        "4 [ 0.08747702]\n",
        "5 [ 0.0831383]\n",
        "6 [ 0.10960464]  (T)\n",
        "7 [ 0.10782931]\n",
        "8 [ 0.09355045]\n",
        "9 [ 0.09967964]\n"
       ]
      }
     ],
     "prompt_number": 126
    },
    {
     "cell_type": "code",
     "collapsed": false,
     "input": [],
     "language": "python",
     "metadata": {},
     "outputs": [],
     "prompt_number": 107
    },
    {
     "cell_type": "code",
     "collapsed": false,
     "input": [],
     "language": "python",
     "metadata": {},
     "outputs": [],
     "prompt_number": 100
    },
    {
     "cell_type": "code",
     "collapsed": false,
     "input": [],
     "language": "python",
     "metadata": {},
     "outputs": []
    }
   ],
   "metadata": {}
  }
 ]
}