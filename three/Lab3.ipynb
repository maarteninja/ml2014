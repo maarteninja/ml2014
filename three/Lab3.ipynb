{
 "metadata": {
  "name": ""
 },
 "nbformat": 3,
 "nbformat_minor": 0,
 "worksheets": [
  {
   "cells": [
    {
     "cell_type": "code",
     "collapsed": false,
     "input": [
      "%pylab inline\n",
      "import pylab as pp"
     ],
     "language": "python",
     "metadata": {},
     "outputs": [
      {
       "output_type": "stream",
       "stream": "stdout",
       "text": [
        "Populating the interactive namespace from numpy and matplotlib\n"
       ]
      }
     ],
     "prompt_number": 6
    },
    {
     "cell_type": "markdown",
     "metadata": {},
     "source": [
      "# Lab 3: Gaussian process regression and Mixture of Gaussians' clustering\n",
      "\n",
      "### Machine Learning 1, September 2014\n",
      "\n",
      "* The lab exercises should be made in groups of two or three people.\n",
      "* The deadline is october 24th (friday) 23:59.\n",
      "* Assignment should be sent to taco.cohen@gmail.com. The subject line of your email should be \"lab\\#\\_lastname1\\_lastname2\\_lastname3\".\n",
      "* Put your and your teammates' names in the body of the email\n",
      "* Attach the .IPYNB (IPython Notebook) file containing your code and answers. Naming of the file follows the same rule as the subject line. For example, if the subject line is \"lab01\\_Kingma\\_Hu\", the attached file should be \"lab01\\_Kingma\\_Hu.ipynb\". Only use underscores (\"\\_\") to connect names, otherwise the files cannot be parsed.\n",
      "\n",
      "Notes on implementation:\n",
      "\n",
      "* You should write your code and answers in an IPython Notebook: http://ipython.org/notebook.html. If you have problems, please contact us.\n",
      "* Among the first lines of your notebook should be \"%pylab inline\". This imports all required modules, and your plots will appear inline.\n",
      "* NOTE: Make sure we can run your notebook / scripts!\n",
      "\n",
      "$\\newcommand{\\bx}{\\mathbf{x}}$\n",
      "$\\newcommand{\\bxp}{\\mathbf{x}^{'}}$\n",
      "$\\newcommand{\\bw}{\\mathbf{w}}$\n",
      "$\\newcommand{\\bt}{\\mathbf{t}}$\n",
      "$\\newcommand{\\by}{\\mathbf{y}}$\n",
      "$\\newcommand{\\bm}{\\mathbf{m}}$\n",
      "$\\newcommand{\\bb}{\\mathbf{b}}$\n",
      "$\\newcommand{\\bS}{\\mathbf{S}}$\n",
      "$\\newcommand{\\ba}{\\mathbf{a}}$\n",
      "$\\newcommand{\\bz}{\\mathbf{z}}$\n",
      "$\\newcommand{\\bv}{\\mathbf{v}}$\n",
      "$\\newcommand{\\bq}{\\mathbf{q}}$\n",
      "$\\newcommand{\\bp}{\\mathbf{p}}$\n",
      "$\\newcommand{\\bh}{\\mathbf{h}}$\n",
      "\n",
      "$\\newcommand{\\bI}{\\mathbf{I}}$\n",
      "$\\newcommand{\\bX}{\\mathbf{X}}$\n",
      "$\\newcommand{\\bT}{\\mathbf{T}}$\n",
      "$\\newcommand{\\bPhi}{\\mathbf{\\Phi}}$\n",
      "$\\newcommand{\\bW}{\\mathbf{W}}$\n",
      "$\\newcommand{\\bV}{\\mathbf{V}}$\n",
      "$\\newcommand{\\xm}{\\mathbf{x}_m}$\n",
      "$\\newcommand{\\xn}{\\mathbf{x}_n}$\n",
      "$\\newcommand{\\y}{\\mathbf{y}}$\n",
      "$\\newcommand{\\K}{\\mathbf{K}}$\n",
      "$\\newcommand{\\zero}{\\mathbf{0}}$\n",
      "$\\newcommand{\\yi}{\\y_i}$\n",
      "$\\newcommand{\\thetav}{\\mathbf{\\theta}}$\n",
      "$\\newcommand{\\t}{\\mathbf{t}}$\n",
      "$\\newcommand{\\x}{\\mathbf{x}}$\n",
      "$\\newcommand{\\tN}{\\mathbf{t}_N}$\n",
      "$\\newcommand{\\xN}{\\mathbf{x}_N}$\n",
      "$\\newcommand{\\k}{\\mathbf{k}}$\n",
      "$\\newcommand{\\C}{\\mathbf{C}}$\n",
      "$\\newcommand{\\CN}{\\mathbf{C}_N}$\n",
      "$\\newcommand{\\KN}{\\mathbf{K}_N}$\n",
      "$\\newcommand{\\eyeN}{\\mathbf{I}_N}$"
     ]
    },
    {
     "cell_type": "markdown",
     "metadata": {},
     "source": [
      "# Part 1. Gaussian process regression\n",
      "\n",
      "For this Lab we will be refer to sections 6.4.2 and 6.4.3. You may also want to refer to Rasmussen's Gaussian Process text which is available online at gaussianprocesses.org.  To understand Gaussian processes, it is highly recommended understand how marginal, partitioned Gaussian distributions can be converted into conditional Gaussian distributions.  This is covered in Chapter 2.3 and summarized in Eqns 2.94-2.98.\n",
      "\n",
      "\n"
     ]
    },
    {
     "cell_type": "heading",
     "level": 3,
     "metadata": {},
     "source": [
      "Sinusoidal Data"
     ]
    },
    {
     "cell_type": "markdown",
     "metadata": {},
     "source": [
      "We will use the same data generating function that we used previously for regression.  You can change sigma/beta, but keep it reasonable.  Definitely play around once you have things working.  Make use of these functions as you wish."
     ]
    },
    {
     "cell_type": "code",
     "collapsed": false,
     "input": [
      "sigma = 0.1\n",
      "beta  = 1.0 / pow(sigma,2) # this is the beta used in Bishop Eqn. 6.59\n",
      "N_test = 100\n",
      "x_test = np.linspace(-1,1,N_test); \n",
      "mu_test = np.zeros( N_test )"
     ],
     "language": "python",
     "metadata": {},
     "outputs": [],
     "prompt_number": 7
    },
    {
     "cell_type": "code",
     "collapsed": false,
     "input": [
      "def true_mean_function( x ):\n",
      "    return np.sin( 2*pi*(x+1) )\n",
      "\n",
      "def add_noise( y, sigma ):\n",
      "    return y + sigma*np.random.randn(len(y))\n",
      "\n",
      "def generate_t( x, sigma ):\n",
      "    return add_noise( true_mean_function( x), sigma )"
     ],
     "language": "python",
     "metadata": {},
     "outputs": [],
     "prompt_number": 8
    },
    {
     "cell_type": "code",
     "collapsed": false,
     "input": [
      "y_test = true_mean_function( x_test )\n",
      "t_test = add_noise( y_test, sigma )\n",
      "pp.plot( x_test, y_test, 'b-', lw=2)\n",
      "pp.plot( x_test, t_test, 'go')"
     ],
     "language": "python",
     "metadata": {},
     "outputs": [
      {
       "metadata": {},
       "output_type": "pyout",
       "prompt_number": 9,
       "text": [
        "[<matplotlib.lines.Line2D at 0x1086b2ad0>]"
       ]
      },
      {
       "metadata": {},
       "output_type": "display_data",
       "png": "[encoded data removed]",
       "text": [
        "<matplotlib.figure.Figure at 0x1086b2b10>"
       ]
      }
     ],
     "prompt_number": 9
    },
    {
     "cell_type": "markdown",
     "metadata": {},
     "source": [
      "### 1. Sampling from the Gaussian process prior (30 points)"
     ]
    },
    {
     "cell_type": "markdown",
     "metadata": {},
     "source": [
      "We will implement Gaussian process regression using the kernel function in Bishop Eqn. 6.6.3.  \n",
      "\n",
      "#### 1.1 k_n_m( xn, xm, thetas ) (10 points)\n",
      "To start, implement function \"k_n_m( xn, xm, thetas )\" that takes scalars $\\xn$ and $\\xm$, and a vector of $4$ thetas, and computes the kernel function Bishop Eqn. 6.63 (10 points).  NB: usually the kernel function will take $D$ by $1$ vectors, but since we are using a univariate problem, this makes things easier."
     ]
    },
    {
     "cell_type": "code",
     "collapsed": false,
     "input": [],
     "language": "python",
     "metadata": {},
     "outputs": []
    },
    {
     "cell_type": "markdown",
     "metadata": {},
     "source": [
      "#### 1.2 computeK( X1, X2, thetas ) (5 points)\n",
      "Eqn 6.60 is the marginal distribution of mean ouput of $N$ data vectors: $p(\\y) = \\mathcal{N}(\\zero, \\K)$.  Notice that the expected mean function is $0$ at all locations, and that the covariance is a $N$ by $N$ kernel matrix $\\K$.  Write a function \"computeK( X1, X2, thetas )\" that computes the kernel matrix.  Use k_n_m as part of an innner loop (of course, there are more efficient ways of computing the kernel function making better use of vectorization, but that is not necessary) (5 points).  "
     ]
    },
    {
     "cell_type": "code",
     "collapsed": false,
     "input": [],
     "language": "python",
     "metadata": {},
     "outputs": []
    },
    {
     "cell_type": "markdown",
     "metadata": {},
     "source": [
      "#### 1.3 Plot function samples (15 points)\n",
      "Now sample mean functions at the x_test locations for the theta values in Bishop Figure 6.5, make a figure with a 2 by 3 subplot and make sure the title reflects the theta values (make sure everything is legible).  In other words, sample $\\yi \\sim \\mathcal{N}(\\zero, \\K_{\\thetav})$.  Make use of numpy.random.multivariate_normal().  On your plots include the expected value of $\\y$ with a dashed line and fill_between 2 standard deviations of the uncertainty due to $\\K$ (the diagonal of $\\K$ is the variance of the model uncertainty) (15 points)."
     ]
    },
    {
     "cell_type": "code",
     "collapsed": false,
     "input": [],
     "language": "python",
     "metadata": {},
     "outputs": []
    },
    {
     "cell_type": "markdown",
     "metadata": {},
     "source": [
      "### 2. Predictive distribution (35 points)"
     ]
    },
    {
     "cell_type": "markdown",
     "metadata": {},
     "source": [
      "So far we have sampled mean functions from the prior.  We can draw actual data $\\t$ two ways.  The first way is generatively, by first sampling $\\y | \\K$, then sampling $\\t | \\y, \\beta$ (Eqns 6.60 followed by 6.59).  The second way is to integrate over $\\y$ (the mean draw) and directly sample $\\t | \\K, \\beta$ using Eqn 6.61.    This is the generative process for $\\t$.  Note that we have not specified a distribution over inputs $\\x$;  this is because Gaussian processes are conditional models.  Because of this we are free to generate locations $\\x$ when playing around with the GP; obviously a dataset will give us input-output pairs.\n",
      "\n",
      "Once we have data, we are interested in the predictive distribution (note: the prior is the predictive distribution when there is no data).  Consider the joint distribution for $N+1$ targets, given by Eqn 6.64.  Its covariance matrix is composed of block components $\\CN$, $\\k$, and $c$.  The covariance matrix $CN$ for $\\tN$ is $\\CN = \\KN + \\eyeN / \\beta$.  We have just made explicit the size $N$ of the matrix; $N$ is the number of training points.  The kernel vector $\\k$ is a $N$ by $1$ vector of kernel function evaluations between the training input data and the test input vector.  The scalar $c$ is a kernel evaluation at the test input.\n",
      "\n",
      "#### 2.1 gp_predictive_distribution(...) (10 points)\n",
      "Write a function \"gp_predictive_distribution( x_train, x_test, theta, C = None )\" that computes  Eqns 6.66 and 6.67, except allow for an arbitrary number of test points (not just one) and now the kernel matrix is for training data.  By having C as an optional parameter, we can avoid computing it more than once (for this problem it is unimportant, but for real problems this is an issue).  The function should compute $\\C$, $\\k$, and $c$ and the mean and noise functions.  Do not forget: the computeK function computes $\\K$, not $\\C$! (10 points)"
     ]
    },
    {
     "cell_type": "code",
     "collapsed": false,
     "input": [],
     "language": "python",
     "metadata": {},
     "outputs": []
    },
    {
     "cell_type": "markdown",
     "metadata": {},
     "source": [
      "#### 2.2 gp_log_likelihood(...) (10 points)\n",
      "Later, to learn the hyperparameters, we will need to compute the log-likelihood of the of the training data.  Implicitly, this is conditioned on the value setting for $\\thetav$.  Write a function \"gp_log_likelihood( x_train, t_train, theta, C = None, invC = None )\", where C and invC can be stored and reused.  (10 points)"
     ]
    },
    {
     "cell_type": "code",
     "collapsed": false,
     "input": [],
     "language": "python",
     "metadata": {},
     "outputs": []
    },
    {
     "cell_type": "markdown",
     "metadata": {},
     "source": [
      "#### 2.3 Plotting (10 points)\n",
      "Repeat the 6 plots above, but this time conditioned on the training 2 points.  Use the sinuosoidal data generator to create 2 training points where x is sampled uniformly between $-1$ and $1$.  For these plots, feel free to use the provided function \"gp_plot\".  Make sure you put the parameters in the title and this time also the log-likelihood. (10 points)  Try to understand the two types of uncertainty!  If you do not use \"gp_plot\", please add a fill between for the model and target noise. "
     ]
    },
    {
     "cell_type": "code",
     "collapsed": false,
     "input": [
      "def gp_plot( x_test, y_test, mu_test, var_test, x_train, t_train, theta, beta ):\n",
      "    # x_test: \n",
      "    # y_test:   the true function at x_test\n",
      "    # mu_test:   predictive mean at x_test\n",
      "    # var_test: predictive covariance at x_test \n",
      "    # t_train:  the training values\n",
      "    # theta:    the kernel parameters\n",
      "    # beta:      the precision (known)\n",
      "    \n",
      "    # the reason for the manipulation is to allow plots separating model and data stddevs.\n",
      "    std_total = np.sqrt(np.diag(var_test))         # includes all uncertainty, model and target noise \n",
      "    std_model = np.sqrt( std_total**2 - 1.0/beta ) # remove data noise to get model uncertainty in stddev\n",
      "    std_combo = std_model + np.sqrt( 1.0/beta )    # add stddev (note: not the same as full)\n",
      "    \n",
      "    pp.plot( x_test, y_test, 'b', lw=3)\n",
      "    pp.plot( x_test, mu_test, 'k--', lw=2 )\n",
      "    pp.fill_between( x_test, mu_test+2*std_combo,mu_test-2*std_combo, color='k', alpha=0.25 )\n",
      "    pp.fill_between( x_test, mu_test+2*std_model,mu_test-2*std_model, color='r', alpha=0.25 )\n",
      "    pp.plot( x_train, t_train, 'ro', ms=10 )\n",
      "    "
     ],
     "language": "python",
     "metadata": {},
     "outputs": [],
     "prompt_number": 11
    },
    {
     "cell_type": "markdown",
     "metadata": {},
     "source": [
      "#### 2.4 More ploting (5 points)\n",
      "Repeat the 6 plots above, but this time conditioned a new set of 10 training points. (5 points)"
     ]
    },
    {
     "cell_type": "code",
     "collapsed": false,
     "input": [],
     "language": "python",
     "metadata": {},
     "outputs": []
    },
    {
     "cell_type": "markdown",
     "metadata": {},
     "source": [
      "### 3. Learning the hyperparameters (50 points)"
     ]
    },
    {
     "cell_type": "markdown",
     "metadata": {},
     "source": [
      "Learning the values of the parameter $\\thetav$ can be very tricky for Gaussian processes in general, but when the data is univariate like ours, we can visualize the fit and see how plausible it looks.\n",
      "\n",
      "#### 3.1 Derivatives (5 points)\n",
      "Maximum likelihood or MAP learning is the most common way of setting the parameters, though a fully Bayesian approach is possible too.  We will look at ML today.  For this, we start with the dervivative of the log-likelihood with respect to the parameters $\\thetav$; this is Eqn 6.70.  This, in turn, requires the derivative of the kernel matrix $\\CN$ wrt $\\thetav$.  This is the matrix of element-wise derivatives of the kernel function.  Write the derivatives for $\\theta_0$ to $\\theta_3$ for our kernel function (5 points).  "
     ]
    },
    {
     "cell_type": "code",
     "collapsed": false,
     "input": [],
     "language": "python",
     "metadata": {},
     "outputs": []
    },
    {
     "cell_type": "markdown",
     "metadata": {},
     "source": [
      "#### 3.2 Questions (5 points)\n",
      "Which parameters in $\\thetav$ are unconstrained, that is, where any positive/ negative values are valid? (5 points)"
     ]
    },
    {
     "cell_type": "code",
     "collapsed": false,
     "input": [],
     "language": "python",
     "metadata": {},
     "outputs": []
    },
    {
     "cell_type": "markdown",
     "metadata": {},
     "source": [
      "#### 3.3 More derivatives (5 points)\n",
      "For parameters that are constrained to be positive, the usual approach is to use the exponential of the free-parameter in the kernel function, but perform gradient ascent on the unconstrained values.  Consider the case  $\\theta_i = \\exp( \\phi_i)$, where $\\phi_i$ is unconstrained.  Write the derivative for $\\phi_i$ in terms of the derivatives you already computed (5 points).  Hint: use the chain rule and do not repeat the full derivation.\n"
     ]
    },
    {
     "cell_type": "code",
     "collapsed": false,
     "input": [],
     "language": "python",
     "metadata": {},
     "outputs": []
    },
    {
     "cell_type": "markdown",
     "metadata": {},
     "source": [
      "#### 3.4 Grid search (10 points)\n",
      "Grid-search: for the same training set you have above, perform a small grid search over $\\thetav$ (try at least 20 combinations).  Have your grid-search loop or function print out rows of log-likelihood + $\\thetav$ sorted by best to worst.  Use the log-likelihood to select the best $\\thetav$ and the worst.  Plots both the same way as the subplots above (ie a 1 by 2 subplot of best and worst). (10 points)"
     ]
    },
    {
     "cell_type": "code",
     "collapsed": false,
     "input": [],
     "language": "python",
     "metadata": {},
     "outputs": []
    },
    {
     "cell_type": "markdown",
     "metadata": {},
     "source": [
      "#### 3.5 Questions (10 points)\n",
      "Selecting kernel functions can be somewhat of an art.  There are charateristics of kernel functions that are useful for some data sets, but not others.  Complicating the matter is the ability to combine kernels with different characteristics (long term trends + seasonal fluctuations).  Describe the charactistics of the kernel function we are using in terms of (signal, scale, offsets, etc). You may want to play around with $\\thetav$ and see what each parameter does/affects/etc.  (5 points)  Describe why the best parameters work well for the training data and explain why the bad parameter settings perform poorly (in terms of the first part of the question).  (5 points)"
     ]
    },
    {
     "cell_type": "code",
     "collapsed": false,
     "input": [],
     "language": "python",
     "metadata": {},
     "outputs": []
    },
    {
     "cell_type": "markdown",
     "metadata": {},
     "source": [
      "#### 3.6 Implementation (20 points)\n",
      "Bonus:  Implement gradient-ascent (or descent if you wish) using the combination of a) the log-likelihood objective function and b) the gradients you calculated above.  Run on the training data above and show the log-likehood curve as it learns and a plot of the final model.  Feel free to use available software (eg search for \"minimize.py\" which uses conjugate gradient descent, or something in scipy).  NB: log-likelihood should be monotonically increasing.  You are encouraged to also search and use \"checkgrad\".  (20 points)"
     ]
    },
    {
     "cell_type": "code",
     "collapsed": false,
     "input": [],
     "language": "python",
     "metadata": {},
     "outputs": []
    }
   ],
   "metadata": {}
  }
 ]
}